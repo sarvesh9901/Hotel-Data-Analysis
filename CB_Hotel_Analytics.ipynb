{
 "cells": [
  {
   "cell_type": "code",
   "execution_count": 3,
   "metadata": {},
   "outputs": [],
   "source": [
    "import pandas as pd"
   ]
  },
  {
   "cell_type": "code",
   "execution_count": 4,
   "metadata": {},
   "outputs": [
    {
     "data": {
      "text/html": [
       "<div>\n",
       "<style scoped>\n",
       "    .dataframe tbody tr th:only-of-type {\n",
       "        vertical-align: middle;\n",
       "    }\n",
       "\n",
       "    .dataframe tbody tr th {\n",
       "        vertical-align: top;\n",
       "    }\n",
       "\n",
       "    .dataframe thead th {\n",
       "        text-align: right;\n",
       "    }\n",
       "</style>\n",
       "<table border=\"1\" class=\"dataframe\">\n",
       "  <thead>\n",
       "    <tr style=\"text-align: right;\">\n",
       "      <th></th>\n",
       "      <th>booking_id</th>\n",
       "      <th>property_id</th>\n",
       "      <th>booking_date</th>\n",
       "      <th>check_in_date</th>\n",
       "      <th>checkout_date</th>\n",
       "      <th>no_guests</th>\n",
       "      <th>room_category</th>\n",
       "      <th>booking_platform</th>\n",
       "      <th>ratings_given</th>\n",
       "      <th>booking_status</th>\n",
       "      <th>revenue_generated</th>\n",
       "      <th>revenue_realized</th>\n",
       "    </tr>\n",
       "  </thead>\n",
       "  <tbody>\n",
       "    <tr>\n",
       "      <th>0</th>\n",
       "      <td>May012216558RT11</td>\n",
       "      <td>16558</td>\n",
       "      <td>27-04-22</td>\n",
       "      <td>1/5/2022</td>\n",
       "      <td>2/5/2022</td>\n",
       "      <td>-3.0</td>\n",
       "      <td>RT1</td>\n",
       "      <td>direct online</td>\n",
       "      <td>1.0</td>\n",
       "      <td>Checked Out</td>\n",
       "      <td>10010</td>\n",
       "      <td>10010</td>\n",
       "    </tr>\n",
       "    <tr>\n",
       "      <th>1</th>\n",
       "      <td>May012216558RT12</td>\n",
       "      <td>16558</td>\n",
       "      <td>30-04-22</td>\n",
       "      <td>1/5/2022</td>\n",
       "      <td>2/5/2022</td>\n",
       "      <td>2.0</td>\n",
       "      <td>RT1</td>\n",
       "      <td>others</td>\n",
       "      <td>NaN</td>\n",
       "      <td>Cancelled</td>\n",
       "      <td>9100</td>\n",
       "      <td>3640</td>\n",
       "    </tr>\n",
       "    <tr>\n",
       "      <th>2</th>\n",
       "      <td>May012216558RT13</td>\n",
       "      <td>16558</td>\n",
       "      <td>28-04-22</td>\n",
       "      <td>1/5/2022</td>\n",
       "      <td>4/5/2022</td>\n",
       "      <td>2.0</td>\n",
       "      <td>RT1</td>\n",
       "      <td>logtrip</td>\n",
       "      <td>5.0</td>\n",
       "      <td>Checked Out</td>\n",
       "      <td>9100000</td>\n",
       "      <td>9100</td>\n",
       "    </tr>\n",
       "    <tr>\n",
       "      <th>3</th>\n",
       "      <td>May012216558RT14</td>\n",
       "      <td>16558</td>\n",
       "      <td>28-04-22</td>\n",
       "      <td>1/5/2022</td>\n",
       "      <td>2/5/2022</td>\n",
       "      <td>-2.0</td>\n",
       "      <td>RT1</td>\n",
       "      <td>others</td>\n",
       "      <td>NaN</td>\n",
       "      <td>Cancelled</td>\n",
       "      <td>9100</td>\n",
       "      <td>3640</td>\n",
       "    </tr>\n",
       "    <tr>\n",
       "      <th>4</th>\n",
       "      <td>May012216558RT15</td>\n",
       "      <td>16558</td>\n",
       "      <td>27-04-22</td>\n",
       "      <td>1/5/2022</td>\n",
       "      <td>2/5/2022</td>\n",
       "      <td>4.0</td>\n",
       "      <td>RT1</td>\n",
       "      <td>direct online</td>\n",
       "      <td>5.0</td>\n",
       "      <td>Checked Out</td>\n",
       "      <td>10920</td>\n",
       "      <td>10920</td>\n",
       "    </tr>\n",
       "  </tbody>\n",
       "</table>\n",
       "</div>"
      ],
      "text/plain": [
       "         booking_id  property_id booking_date check_in_date checkout_date  \\\n",
       "0  May012216558RT11        16558     27-04-22      1/5/2022      2/5/2022   \n",
       "1  May012216558RT12        16558     30-04-22      1/5/2022      2/5/2022   \n",
       "2  May012216558RT13        16558     28-04-22      1/5/2022      4/5/2022   \n",
       "3  May012216558RT14        16558     28-04-22      1/5/2022      2/5/2022   \n",
       "4  May012216558RT15        16558     27-04-22      1/5/2022      2/5/2022   \n",
       "\n",
       "   no_guests room_category booking_platform  ratings_given booking_status  \\\n",
       "0       -3.0           RT1    direct online            1.0    Checked Out   \n",
       "1        2.0           RT1           others            NaN      Cancelled   \n",
       "2        2.0           RT1          logtrip            5.0    Checked Out   \n",
       "3       -2.0           RT1           others            NaN      Cancelled   \n",
       "4        4.0           RT1    direct online            5.0    Checked Out   \n",
       "\n",
       "   revenue_generated  revenue_realized  \n",
       "0              10010             10010  \n",
       "1               9100              3640  \n",
       "2            9100000              9100  \n",
       "3               9100              3640  \n",
       "4              10920             10920  "
      ]
     },
     "execution_count": 4,
     "metadata": {},
     "output_type": "execute_result"
    }
   ],
   "source": [
    "df_bookings = pd.read_csv(r\"E:\\CodeBasics\\Python\\pandas\\64101194a2364\\source-code\\3_project_hospitality_analysis\\datasets\\fact_bookings.csv\")\n",
    "df_bookings.head()"
   ]
  },
  {
   "cell_type": "code",
   "execution_count": 5,
   "metadata": {},
   "outputs": [
    {
     "data": {
      "text/plain": [
       "(134590, 12)"
      ]
     },
     "execution_count": 5,
     "metadata": {},
     "output_type": "execute_result"
    }
   ],
   "source": [
    "df_bookings.shape"
   ]
  },
  {
   "cell_type": "code",
   "execution_count": 6,
   "metadata": {},
   "outputs": [
    {
     "data": {
      "text/plain": [
       "array(['RT1', 'RT2', 'RT3', 'RT4'], dtype=object)"
      ]
     },
     "execution_count": 6,
     "metadata": {},
     "output_type": "execute_result"
    }
   ],
   "source": [
    "df_bookings.room_category.unique() #total unique room categories"
   ]
  },
  {
   "cell_type": "code",
   "execution_count": 7,
   "metadata": {},
   "outputs": [
    {
     "data": {
      "text/plain": [
       "array(['direct online', 'others', 'logtrip', 'tripster', 'makeyourtrip',\n",
       "       'journey', 'direct offline'], dtype=object)"
      ]
     },
     "execution_count": 7,
     "metadata": {},
     "output_type": "execute_result"
    }
   ],
   "source": [
    "df_bookings.booking_platform.unique() #total_unique booking platforms"
   ]
  },
  {
   "cell_type": "code",
   "execution_count": 8,
   "metadata": {},
   "outputs": [
    {
     "data": {
      "text/plain": [
       "<Axes: >"
      ]
     },
     "execution_count": 8,
     "metadata": {},
     "output_type": "execute_result"
    },
    {
     "data": {
      "image/png": "[encoded data removed]",
      "text/plain": [
       "<Figure size 432x288 with 1 Axes>"
      ]
     },
     "metadata": {
      "needs_background": "light"
     },
     "output_type": "display_data"
    }
   ],
   "source": [
    "df_bookings.booking_platform.value_counts().plot(kind='bar')"
   ]
  },
  {
   "cell_type": "code",
   "execution_count": 9,
   "metadata": {},
   "outputs": [
    {
     "data": {
      "text/html": [
       "<div>\n",
       "<style scoped>\n",
       "    .dataframe tbody tr th:only-of-type {\n",
       "        vertical-align: middle;\n",
       "    }\n",
       "\n",
       "    .dataframe tbody tr th {\n",
       "        vertical-align: top;\n",
       "    }\n",
       "\n",
       "    .dataframe thead th {\n",
       "        text-align: right;\n",
       "    }\n",
       "</style>\n",
       "<table border=\"1\" class=\"dataframe\">\n",
       "  <thead>\n",
       "    <tr style=\"text-align: right;\">\n",
       "      <th></th>\n",
       "      <th>property_id</th>\n",
       "      <th>no_guests</th>\n",
       "      <th>ratings_given</th>\n",
       "      <th>revenue_generated</th>\n",
       "      <th>revenue_realized</th>\n",
       "    </tr>\n",
       "  </thead>\n",
       "  <tbody>\n",
       "    <tr>\n",
       "      <th>count</th>\n",
       "      <td>134590.000000</td>\n",
       "      <td>134587.000000</td>\n",
       "      <td>56683.000000</td>\n",
       "      <td>1.345900e+05</td>\n",
       "      <td>134590.000000</td>\n",
       "    </tr>\n",
       "    <tr>\n",
       "      <th>mean</th>\n",
       "      <td>18061.113493</td>\n",
       "      <td>2.036170</td>\n",
       "      <td>3.619004</td>\n",
       "      <td>1.537805e+04</td>\n",
       "      <td>12696.123256</td>\n",
       "    </tr>\n",
       "    <tr>\n",
       "      <th>std</th>\n",
       "      <td>1093.055847</td>\n",
       "      <td>1.034885</td>\n",
       "      <td>1.235009</td>\n",
       "      <td>9.303604e+04</td>\n",
       "      <td>6928.108124</td>\n",
       "    </tr>\n",
       "    <tr>\n",
       "      <th>min</th>\n",
       "      <td>16558.000000</td>\n",
       "      <td>-17.000000</td>\n",
       "      <td>1.000000</td>\n",
       "      <td>6.500000e+03</td>\n",
       "      <td>2600.000000</td>\n",
       "    </tr>\n",
       "    <tr>\n",
       "      <th>25%</th>\n",
       "      <td>17558.000000</td>\n",
       "      <td>1.000000</td>\n",
       "      <td>3.000000</td>\n",
       "      <td>9.900000e+03</td>\n",
       "      <td>7600.000000</td>\n",
       "    </tr>\n",
       "    <tr>\n",
       "      <th>50%</th>\n",
       "      <td>17564.000000</td>\n",
       "      <td>2.000000</td>\n",
       "      <td>4.000000</td>\n",
       "      <td>1.350000e+04</td>\n",
       "      <td>11700.000000</td>\n",
       "    </tr>\n",
       "    <tr>\n",
       "      <th>75%</th>\n",
       "      <td>18563.000000</td>\n",
       "      <td>2.000000</td>\n",
       "      <td>5.000000</td>\n",
       "      <td>1.800000e+04</td>\n",
       "      <td>15300.000000</td>\n",
       "    </tr>\n",
       "    <tr>\n",
       "      <th>max</th>\n",
       "      <td>19563.000000</td>\n",
       "      <td>6.000000</td>\n",
       "      <td>5.000000</td>\n",
       "      <td>2.856000e+07</td>\n",
       "      <td>45220.000000</td>\n",
       "    </tr>\n",
       "  </tbody>\n",
       "</table>\n",
       "</div>"
      ],
      "text/plain": [
       "         property_id      no_guests  ratings_given  revenue_generated  \\\n",
       "count  134590.000000  134587.000000   56683.000000       1.345900e+05   \n",
       "mean    18061.113493       2.036170       3.619004       1.537805e+04   \n",
       "std      1093.055847       1.034885       1.235009       9.303604e+04   \n",
       "min     16558.000000     -17.000000       1.000000       6.500000e+03   \n",
       "25%     17558.000000       1.000000       3.000000       9.900000e+03   \n",
       "50%     17564.000000       2.000000       4.000000       1.350000e+04   \n",
       "75%     18563.000000       2.000000       5.000000       1.800000e+04   \n",
       "max     19563.000000       6.000000       5.000000       2.856000e+07   \n",
       "\n",
       "       revenue_realized  \n",
       "count     134590.000000  \n",
       "mean       12696.123256  \n",
       "std         6928.108124  \n",
       "min         2600.000000  \n",
       "25%         7600.000000  \n",
       "50%        11700.000000  \n",
       "75%        15300.000000  \n",
       "max        45220.000000  "
      ]
     },
     "execution_count": 9,
     "metadata": {},
     "output_type": "execute_result"
    }
   ],
   "source": [
    "df_bookings.describe()"
   ]
  },
  {
   "cell_type": "code",
   "execution_count": 10,
   "metadata": {},
   "outputs": [],
   "source": [
    "df_date = pd.read_csv(r'datasets/dim_date.csv')\n",
    "df_hotels = pd.read_csv(r'datasets/dim_hotels.csv')\n",
    "df_rooms = pd.read_csv(r'datasets/dim_rooms.csv')\n",
    "df_agg_bookings = pd.read_csv(r'datasets/fact_aggregated_bookings.csv')"
   ]
  },
  {
   "cell_type": "markdown",
   "metadata": {},
   "source": [
    "# Data cleaning "
   ]
  },
  {
   "cell_type": "code",
   "execution_count": 11,
   "metadata": {},
   "outputs": [],
   "source": [
    "df_bookings = df_bookings[df_bookings.no_guests > 0]"
   ]
  },
  {
   "cell_type": "code",
   "execution_count": 12,
   "metadata": {},
   "outputs": [
    {
     "data": {
      "text/plain": [
       "(15378.036937686695, 93040.15493143328)"
      ]
     },
     "execution_count": 12,
     "metadata": {},
     "output_type": "execute_result"
    }
   ],
   "source": [
    "avg  ,std = df_bookings.revenue_generated.mean(), df_bookings.revenue_generated.std()\n",
    "avg,std"
   ]
  },
  {
   "cell_type": "code",
   "execution_count": 13,
   "metadata": {},
   "outputs": [],
   "source": [
    "higher_limit = avg + 3*std"
   ]
  },
  {
   "cell_type": "code",
   "execution_count": 14,
   "metadata": {},
   "outputs": [],
   "source": [
    "df_bookings = df_bookings[df_bookings.revenue_generated < higher_limit]\n"
   ]
  },
  {
   "cell_type": "markdown",
   "metadata": {},
   "source": [
    "# Data Transformation\n"
   ]
  },
  {
   "cell_type": "code",
   "execution_count": 15,
   "metadata": {},
   "outputs": [
    {
     "data": {
      "text/html": [
       "<div>\n",
       "<style scoped>\n",
       "    .dataframe tbody tr th:only-of-type {\n",
       "        vertical-align: middle;\n",
       "    }\n",
       "\n",
       "    .dataframe tbody tr th {\n",
       "        vertical-align: top;\n",
       "    }\n",
       "\n",
       "    .dataframe thead th {\n",
       "        text-align: right;\n",
       "    }\n",
       "</style>\n",
       "<table border=\"1\" class=\"dataframe\">\n",
       "  <thead>\n",
       "    <tr style=\"text-align: right;\">\n",
       "      <th></th>\n",
       "      <th>property_id</th>\n",
       "      <th>check_in_date</th>\n",
       "      <th>room_category</th>\n",
       "      <th>successful_bookings</th>\n",
       "      <th>capacity</th>\n",
       "      <th>occ_pct</th>\n",
       "    </tr>\n",
       "  </thead>\n",
       "  <tbody>\n",
       "    <tr>\n",
       "      <th>0</th>\n",
       "      <td>16559</td>\n",
       "      <td>1-May-22</td>\n",
       "      <td>RT1</td>\n",
       "      <td>25</td>\n",
       "      <td>30.0</td>\n",
       "      <td>83.33</td>\n",
       "    </tr>\n",
       "    <tr>\n",
       "      <th>1</th>\n",
       "      <td>19562</td>\n",
       "      <td>1-May-22</td>\n",
       "      <td>RT1</td>\n",
       "      <td>28</td>\n",
       "      <td>30.0</td>\n",
       "      <td>93.33</td>\n",
       "    </tr>\n",
       "    <tr>\n",
       "      <th>2</th>\n",
       "      <td>19563</td>\n",
       "      <td>1-May-22</td>\n",
       "      <td>RT1</td>\n",
       "      <td>23</td>\n",
       "      <td>30.0</td>\n",
       "      <td>76.67</td>\n",
       "    </tr>\n",
       "    <tr>\n",
       "      <th>3</th>\n",
       "      <td>17558</td>\n",
       "      <td>1-May-22</td>\n",
       "      <td>RT1</td>\n",
       "      <td>30</td>\n",
       "      <td>19.0</td>\n",
       "      <td>157.89</td>\n",
       "    </tr>\n",
       "    <tr>\n",
       "      <th>4</th>\n",
       "      <td>16558</td>\n",
       "      <td>1-May-22</td>\n",
       "      <td>RT1</td>\n",
       "      <td>18</td>\n",
       "      <td>19.0</td>\n",
       "      <td>94.74</td>\n",
       "    </tr>\n",
       "    <tr>\n",
       "      <th>...</th>\n",
       "      <td>...</td>\n",
       "      <td>...</td>\n",
       "      <td>...</td>\n",
       "      <td>...</td>\n",
       "      <td>...</td>\n",
       "      <td>...</td>\n",
       "    </tr>\n",
       "    <tr>\n",
       "      <th>9195</th>\n",
       "      <td>16563</td>\n",
       "      <td>31-Jul-22</td>\n",
       "      <td>RT4</td>\n",
       "      <td>13</td>\n",
       "      <td>18.0</td>\n",
       "      <td>72.22</td>\n",
       "    </tr>\n",
       "    <tr>\n",
       "      <th>9196</th>\n",
       "      <td>16559</td>\n",
       "      <td>31-Jul-22</td>\n",
       "      <td>RT4</td>\n",
       "      <td>13</td>\n",
       "      <td>18.0</td>\n",
       "      <td>72.22</td>\n",
       "    </tr>\n",
       "    <tr>\n",
       "      <th>9197</th>\n",
       "      <td>17558</td>\n",
       "      <td>31-Jul-22</td>\n",
       "      <td>RT4</td>\n",
       "      <td>3</td>\n",
       "      <td>6.0</td>\n",
       "      <td>50.00</td>\n",
       "    </tr>\n",
       "    <tr>\n",
       "      <th>9198</th>\n",
       "      <td>19563</td>\n",
       "      <td>31-Jul-22</td>\n",
       "      <td>RT4</td>\n",
       "      <td>3</td>\n",
       "      <td>6.0</td>\n",
       "      <td>50.00</td>\n",
       "    </tr>\n",
       "    <tr>\n",
       "      <th>9199</th>\n",
       "      <td>17561</td>\n",
       "      <td>31-Jul-22</td>\n",
       "      <td>RT4</td>\n",
       "      <td>3</td>\n",
       "      <td>4.0</td>\n",
       "      <td>75.00</td>\n",
       "    </tr>\n",
       "  </tbody>\n",
       "</table>\n",
       "<p>9200 rows × 6 columns</p>\n",
       "</div>"
      ],
      "text/plain": [
       "      property_id check_in_date room_category  successful_bookings  capacity  \\\n",
       "0           16559      1-May-22           RT1                   25      30.0   \n",
       "1           19562      1-May-22           RT1                   28      30.0   \n",
       "2           19563      1-May-22           RT1                   23      30.0   \n",
       "3           17558      1-May-22           RT1                   30      19.0   \n",
       "4           16558      1-May-22           RT1                   18      19.0   \n",
       "...           ...           ...           ...                  ...       ...   \n",
       "9195        16563     31-Jul-22           RT4                   13      18.0   \n",
       "9196        16559     31-Jul-22           RT4                   13      18.0   \n",
       "9197        17558     31-Jul-22           RT4                    3       6.0   \n",
       "9198        19563     31-Jul-22           RT4                    3       6.0   \n",
       "9199        17561     31-Jul-22           RT4                    3       4.0   \n",
       "\n",
       "      occ_pct  \n",
       "0       83.33  \n",
       "1       93.33  \n",
       "2       76.67  \n",
       "3      157.89  \n",
       "4       94.74  \n",
       "...       ...  \n",
       "9195    72.22  \n",
       "9196    72.22  \n",
       "9197    50.00  \n",
       "9198    50.00  \n",
       "9199    75.00  \n",
       "\n",
       "[9200 rows x 6 columns]"
      ]
     },
     "execution_count": 15,
     "metadata": {},
     "output_type": "execute_result"
    }
   ],
   "source": [
    "# calculate occupancy percentage\n",
    "df_agg_bookings['occ_pct'] = df_agg_bookings.apply(lambda x: x['successful_bookings']/ x['capacity'], axis  = 1)\n",
    "df_agg_bookings['occ_pct']  = round(df_agg_bookings.occ_pct*100 ,2 )\n",
    "df_agg_bookings"
   ]
  },
  {
   "cell_type": "markdown",
   "metadata": {},
   "source": [
    "**Find average room occupancy rate** "
   ]
  },
  {
   "cell_type": "code",
   "execution_count": 16,
   "metadata": {},
   "outputs": [
    {
     "data": {
      "text/plain": [
       "room_category\n",
       "RT1    58.224247\n",
       "RT2    58.040278\n",
       "RT3    58.028213\n",
       "RT4    59.300461\n",
       "Name: occ_pct, dtype: float64"
      ]
     },
     "execution_count": 16,
     "metadata": {},
     "output_type": "execute_result"
    }
   ],
   "source": [
    "df_agg_bookings.groupby(['room_category'])['occ_pct'].mean()"
   ]
  },
  {
   "cell_type": "code",
   "execution_count": 17,
   "metadata": {},
   "outputs": [
    {
     "data": {
      "text/html": [
       "<div>\n",
       "<style scoped>\n",
       "    .dataframe tbody tr th:only-of-type {\n",
       "        vertical-align: middle;\n",
       "    }\n",
       "\n",
       "    .dataframe tbody tr th {\n",
       "        vertical-align: top;\n",
       "    }\n",
       "\n",
       "    .dataframe thead th {\n",
       "        text-align: right;\n",
       "    }\n",
       "</style>\n",
       "<table border=\"1\" class=\"dataframe\">\n",
       "  <thead>\n",
       "    <tr style=\"text-align: right;\">\n",
       "      <th></th>\n",
       "      <th>room_id</th>\n",
       "      <th>room_class</th>\n",
       "    </tr>\n",
       "  </thead>\n",
       "  <tbody>\n",
       "    <tr>\n",
       "      <th>0</th>\n",
       "      <td>RT1</td>\n",
       "      <td>Standard</td>\n",
       "    </tr>\n",
       "    <tr>\n",
       "      <th>1</th>\n",
       "      <td>RT2</td>\n",
       "      <td>Elite</td>\n",
       "    </tr>\n",
       "    <tr>\n",
       "      <th>2</th>\n",
       "      <td>RT3</td>\n",
       "      <td>Premium</td>\n",
       "    </tr>\n",
       "    <tr>\n",
       "      <th>3</th>\n",
       "      <td>RT4</td>\n",
       "      <td>Presidential</td>\n",
       "    </tr>\n",
       "  </tbody>\n",
       "</table>\n",
       "</div>"
      ],
      "text/plain": [
       "  room_id    room_class\n",
       "0     RT1      Standard\n",
       "1     RT2         Elite\n",
       "2     RT3       Premium\n",
       "3     RT4  Presidential"
      ]
     },
     "execution_count": 17,
     "metadata": {},
     "output_type": "execute_result"
    }
   ],
   "source": [
    "df_rooms"
   ]
  },
  {
   "cell_type": "code",
   "execution_count": 18,
   "metadata": {},
   "outputs": [
    {
     "data": {
      "text/plain": [
       "room_class\n",
       "Elite           58.040278\n",
       "Premium         58.028213\n",
       "Presidential    59.300461\n",
       "Standard        58.224247\n",
       "Name: occ_pct, dtype: float64"
      ]
     },
     "execution_count": 18,
     "metadata": {},
     "output_type": "execute_result"
    }
   ],
   "source": [
    "df_merge  = pd.merge(df_agg_bookings, df_rooms, left_on = 'room_category', right_on = 'room_id')\n",
    "df_merge.groupby(['room_class'])['occ_pct'].mean() ## here is ans"
   ]
  },
  {
   "cell_type": "code",
   "execution_count": 19,
   "metadata": {},
   "outputs": [],
   "source": [
    "df_merge.drop('room_id', axis = 1, inplace= True)\n"
   ]
  },
  {
   "cell_type": "code",
   "execution_count": 20,
   "metadata": {},
   "outputs": [
    {
     "data": {
      "text/html": [
       "<div>\n",
       "<style scoped>\n",
       "    .dataframe tbody tr th:only-of-type {\n",
       "        vertical-align: middle;\n",
       "    }\n",
       "\n",
       "    .dataframe tbody tr th {\n",
       "        vertical-align: top;\n",
       "    }\n",
       "\n",
       "    .dataframe thead th {\n",
       "        text-align: right;\n",
       "    }\n",
       "</style>\n",
       "<table border=\"1\" class=\"dataframe\">\n",
       "  <thead>\n",
       "    <tr style=\"text-align: right;\">\n",
       "      <th></th>\n",
       "      <th>property_id</th>\n",
       "      <th>check_in_date</th>\n",
       "      <th>room_category</th>\n",
       "      <th>successful_bookings</th>\n",
       "      <th>capacity</th>\n",
       "      <th>occ_pct</th>\n",
       "      <th>room_class</th>\n",
       "    </tr>\n",
       "  </thead>\n",
       "  <tbody>\n",
       "    <tr>\n",
       "      <th>0</th>\n",
       "      <td>16559</td>\n",
       "      <td>1-May-22</td>\n",
       "      <td>RT1</td>\n",
       "      <td>25</td>\n",
       "      <td>30.0</td>\n",
       "      <td>83.33</td>\n",
       "      <td>Standard</td>\n",
       "    </tr>\n",
       "    <tr>\n",
       "      <th>1</th>\n",
       "      <td>19562</td>\n",
       "      <td>1-May-22</td>\n",
       "      <td>RT1</td>\n",
       "      <td>28</td>\n",
       "      <td>30.0</td>\n",
       "      <td>93.33</td>\n",
       "      <td>Standard</td>\n",
       "    </tr>\n",
       "    <tr>\n",
       "      <th>2</th>\n",
       "      <td>19563</td>\n",
       "      <td>1-May-22</td>\n",
       "      <td>RT1</td>\n",
       "      <td>23</td>\n",
       "      <td>30.0</td>\n",
       "      <td>76.67</td>\n",
       "      <td>Standard</td>\n",
       "    </tr>\n",
       "    <tr>\n",
       "      <th>3</th>\n",
       "      <td>17558</td>\n",
       "      <td>1-May-22</td>\n",
       "      <td>RT1</td>\n",
       "      <td>30</td>\n",
       "      <td>19.0</td>\n",
       "      <td>157.89</td>\n",
       "      <td>Standard</td>\n",
       "    </tr>\n",
       "    <tr>\n",
       "      <th>4</th>\n",
       "      <td>16558</td>\n",
       "      <td>1-May-22</td>\n",
       "      <td>RT1</td>\n",
       "      <td>18</td>\n",
       "      <td>19.0</td>\n",
       "      <td>94.74</td>\n",
       "      <td>Standard</td>\n",
       "    </tr>\n",
       "    <tr>\n",
       "      <th>...</th>\n",
       "      <td>...</td>\n",
       "      <td>...</td>\n",
       "      <td>...</td>\n",
       "      <td>...</td>\n",
       "      <td>...</td>\n",
       "      <td>...</td>\n",
       "      <td>...</td>\n",
       "    </tr>\n",
       "    <tr>\n",
       "      <th>9195</th>\n",
       "      <td>16563</td>\n",
       "      <td>31-Jul-22</td>\n",
       "      <td>RT4</td>\n",
       "      <td>13</td>\n",
       "      <td>18.0</td>\n",
       "      <td>72.22</td>\n",
       "      <td>Presidential</td>\n",
       "    </tr>\n",
       "    <tr>\n",
       "      <th>9196</th>\n",
       "      <td>16559</td>\n",
       "      <td>31-Jul-22</td>\n",
       "      <td>RT4</td>\n",
       "      <td>13</td>\n",
       "      <td>18.0</td>\n",
       "      <td>72.22</td>\n",
       "      <td>Presidential</td>\n",
       "    </tr>\n",
       "    <tr>\n",
       "      <th>9197</th>\n",
       "      <td>17558</td>\n",
       "      <td>31-Jul-22</td>\n",
       "      <td>RT4</td>\n",
       "      <td>3</td>\n",
       "      <td>6.0</td>\n",
       "      <td>50.00</td>\n",
       "      <td>Presidential</td>\n",
       "    </tr>\n",
       "    <tr>\n",
       "      <th>9198</th>\n",
       "      <td>19563</td>\n",
       "      <td>31-Jul-22</td>\n",
       "      <td>RT4</td>\n",
       "      <td>3</td>\n",
       "      <td>6.0</td>\n",
       "      <td>50.00</td>\n",
       "      <td>Presidential</td>\n",
       "    </tr>\n",
       "    <tr>\n",
       "      <th>9199</th>\n",
       "      <td>17561</td>\n",
       "      <td>31-Jul-22</td>\n",
       "      <td>RT4</td>\n",
       "      <td>3</td>\n",
       "      <td>4.0</td>\n",
       "      <td>75.00</td>\n",
       "      <td>Presidential</td>\n",
       "    </tr>\n",
       "  </tbody>\n",
       "</table>\n",
       "<p>9200 rows × 7 columns</p>\n",
       "</div>"
      ],
      "text/plain": [
       "      property_id check_in_date room_category  successful_bookings  capacity  \\\n",
       "0           16559      1-May-22           RT1                   25      30.0   \n",
       "1           19562      1-May-22           RT1                   28      30.0   \n",
       "2           19563      1-May-22           RT1                   23      30.0   \n",
       "3           17558      1-May-22           RT1                   30      19.0   \n",
       "4           16558      1-May-22           RT1                   18      19.0   \n",
       "...           ...           ...           ...                  ...       ...   \n",
       "9195        16563     31-Jul-22           RT4                   13      18.0   \n",
       "9196        16559     31-Jul-22           RT4                   13      18.0   \n",
       "9197        17558     31-Jul-22           RT4                    3       6.0   \n",
       "9198        19563     31-Jul-22           RT4                    3       6.0   \n",
       "9199        17561     31-Jul-22           RT4                    3       4.0   \n",
       "\n",
       "      occ_pct    room_class  \n",
       "0       83.33      Standard  \n",
       "1       93.33      Standard  \n",
       "2       76.67      Standard  \n",
       "3      157.89      Standard  \n",
       "4       94.74      Standard  \n",
       "...       ...           ...  \n",
       "9195    72.22  Presidential  \n",
       "9196    72.22  Presidential  \n",
       "9197    50.00  Presidential  \n",
       "9198    50.00  Presidential  \n",
       "9199    75.00  Presidential  \n",
       "\n",
       "[9200 rows x 7 columns]"
      ]
     },
     "execution_count": 20,
     "metadata": {},
     "output_type": "execute_result"
    }
   ],
   "source": [
    "df_merge"
   ]
  },
  {
   "cell_type": "markdown",
   "metadata": {},
   "source": [
    "**2. Print average occupancy rate per city**\n"
   ]
  },
  {
   "cell_type": "code",
   "execution_count": 21,
   "metadata": {},
   "outputs": [
    {
     "data": {
      "text/plain": [
       "city\n",
       "Bangalore    56.59\n",
       "Delhi        61.61\n",
       "Hyderabad    58.14\n",
       "Mumbai       57.94\n",
       "Name: occ_pct, dtype: float64"
      ]
     },
     "execution_count": 21,
     "metadata": {},
     "output_type": "execute_result"
    }
   ],
   "source": [
    "df_ans2 = pd.merge(df_agg_bookings, df_hotels, on = 'property_id')\n",
    "df_ans2.groupby(['city'])['occ_pct'].mean().round(2)"
   ]
  },
  {
   "cell_type": "markdown",
   "metadata": {},
   "source": [
    "**3. When was the occupancy better? Weekday or Weekend?**"
   ]
  },
  {
   "cell_type": "code",
   "execution_count": 22,
   "metadata": {},
   "outputs": [
    {
     "data": {
      "text/html": [
       "<div>\n",
       "<style scoped>\n",
       "    .dataframe tbody tr th:only-of-type {\n",
       "        vertical-align: middle;\n",
       "    }\n",
       "\n",
       "    .dataframe tbody tr th {\n",
       "        vertical-align: top;\n",
       "    }\n",
       "\n",
       "    .dataframe thead th {\n",
       "        text-align: right;\n",
       "    }\n",
       "</style>\n",
       "<table border=\"1\" class=\"dataframe\">\n",
       "  <thead>\n",
       "    <tr style=\"text-align: right;\">\n",
       "      <th></th>\n",
       "      <th>date</th>\n",
       "      <th>mmm yy</th>\n",
       "      <th>week no</th>\n",
       "      <th>day_type</th>\n",
       "    </tr>\n",
       "  </thead>\n",
       "  <tbody>\n",
       "    <tr>\n",
       "      <th>0</th>\n",
       "      <td>01-May-22</td>\n",
       "      <td>May 22</td>\n",
       "      <td>W 19</td>\n",
       "      <td>weekend</td>\n",
       "    </tr>\n",
       "    <tr>\n",
       "      <th>1</th>\n",
       "      <td>02-May-22</td>\n",
       "      <td>May 22</td>\n",
       "      <td>W 19</td>\n",
       "      <td>weekeday</td>\n",
       "    </tr>\n",
       "    <tr>\n",
       "      <th>2</th>\n",
       "      <td>03-May-22</td>\n",
       "      <td>May 22</td>\n",
       "      <td>W 19</td>\n",
       "      <td>weekeday</td>\n",
       "    </tr>\n",
       "    <tr>\n",
       "      <th>3</th>\n",
       "      <td>04-May-22</td>\n",
       "      <td>May 22</td>\n",
       "      <td>W 19</td>\n",
       "      <td>weekeday</td>\n",
       "    </tr>\n",
       "    <tr>\n",
       "      <th>4</th>\n",
       "      <td>05-May-22</td>\n",
       "      <td>May 22</td>\n",
       "      <td>W 19</td>\n",
       "      <td>weekeday</td>\n",
       "    </tr>\n",
       "  </tbody>\n",
       "</table>\n",
       "</div>"
      ],
      "text/plain": [
       "        date  mmm yy week no  day_type\n",
       "0  01-May-22  May 22    W 19   weekend\n",
       "1  02-May-22  May 22    W 19  weekeday\n",
       "2  03-May-22  May 22    W 19  weekeday\n",
       "3  04-May-22  May 22    W 19  weekeday\n",
       "4  05-May-22  May 22    W 19  weekeday"
      ]
     },
     "execution_count": 22,
     "metadata": {},
     "output_type": "execute_result"
    }
   ],
   "source": [
    "df_date.head()"
   ]
  },
  {
   "cell_type": "code",
   "execution_count": 23,
   "metadata": {},
   "outputs": [
    {
     "data": {
      "text/plain": [
       "day_type\n",
       "weekeday    50.90\n",
       "weekend     72.39\n",
       "Name: occ_pct, dtype: float64"
      ]
     },
     "execution_count": 23,
     "metadata": {},
     "output_type": "execute_result"
    }
   ],
   "source": [
    "df_ans3 = pd.merge(df_date, df_agg_bookings, left_on = 'date', right_on = 'check_in_date')\n",
    "df_ans3.groupby(['day_type'])['occ_pct'].mean().round(2) # here is ans"
   ]
  },
  {
   "cell_type": "markdown",
   "metadata": {},
   "source": [
    "**4: In the month of June, what is the occupancy for different cities**"
   ]
  },
  {
   "cell_type": "code",
   "execution_count": 24,
   "metadata": {},
   "outputs": [
    {
     "data": {
      "text/plain": [
       "city\n",
       "Bangalore    56.58\n",
       "Delhi        62.47\n",
       "Hyderabad    58.46\n",
       "Mumbai       58.38\n",
       "Name: occ_pct, dtype: float64"
      ]
     },
     "execution_count": 24,
     "metadata": {},
     "output_type": "execute_result"
    }
   ],
   "source": [
    "df_jun22 = df_ans3[df_ans3['mmm yy']=='Jun 22']\n",
    "df_ans4 = pd.merge(df_jun22 , df_hotels, on = 'property_id' )\n",
    "df_ans4.groupby(['city'])['occ_pct'].mean().round(2)"
   ]
  },
  {
   "cell_type": "code",
   "execution_count": 25,
   "metadata": {},
   "outputs": [
    {
     "data": {
      "text/plain": [
       "<Axes: xlabel='city'>"
      ]
     },
     "execution_count": 25,
     "metadata": {},
     "output_type": "execute_result"
    },
    {
     "data": {
      "image/png": "[encoded data removed]",
      "text/plain": [
       "<Figure size 432x288 with 1 Axes>"
      ]
     },
     "metadata": {
      "needs_background": "light"
     },
     "output_type": "display_data"
    }
   ],
   "source": [
    "df_ans4.groupby(['city'])['occ_pct'].mean().plot(kind= 'bar')"
   ]
  },
  {
   "cell_type": "markdown",
   "metadata": {},
   "source": [
    "**Revenue Realized By city**"
   ]
  },
  {
   "cell_type": "code",
   "execution_count": 26,
   "metadata": {},
   "outputs": [
    {
     "data": {
      "text/plain": [
       "city\n",
       "Delhi        294404488\n",
       "Hyderabad    325179310\n",
       "Bangalore    420383550\n",
       "Mumbai       668569251\n",
       "Name: revenue_realized, dtype: int64"
      ]
     },
     "execution_count": 26,
     "metadata": {},
     "output_type": "execute_result"
    }
   ],
   "source": [
    "df_ans5 = pd.merge(df_bookings, df_hotels , on = 'property_id')\n",
    "df_ans5.groupby(['city'])['revenue_realized'].sum().sort_values()"
   ]
  },
  {
   "cell_type": "markdown",
   "metadata": {},
   "source": [
    "**Print month by month revenue**"
   ]
  },
  {
   "cell_type": "code",
   "execution_count": 34,
   "metadata": {},
   "outputs": [],
   "source": [
    "df_bookings[\"check_in_date\"] = pd.to_datetime(df_bookings[\"check_in_date\"])"
   ]
  },
  {
   "cell_type": "code",
   "execution_count": null,
   "metadata": {},
   "outputs": [],
   "source": []
  },
  {
   "cell_type": "code",
   "execution_count": 32,
   "metadata": {},
   "outputs": [
    {
     "data": {
      "text/html": [
       "<div>\n",
       "<style scoped>\n",
       "    .dataframe tbody tr th:only-of-type {\n",
       "        vertical-align: middle;\n",
       "    }\n",
       "\n",
       "    .dataframe tbody tr th {\n",
       "        vertical-align: top;\n",
       "    }\n",
       "\n",
       "    .dataframe thead th {\n",
       "        text-align: right;\n",
       "    }\n",
       "</style>\n",
       "<table border=\"1\" class=\"dataframe\">\n",
       "  <thead>\n",
       "    <tr style=\"text-align: right;\">\n",
       "      <th></th>\n",
       "      <th>date</th>\n",
       "      <th>mmm yy</th>\n",
       "      <th>week no</th>\n",
       "      <th>day_type</th>\n",
       "    </tr>\n",
       "  </thead>\n",
       "  <tbody>\n",
       "    <tr>\n",
       "      <th>0</th>\n",
       "      <td>2022-05-01</td>\n",
       "      <td>May 22</td>\n",
       "      <td>W 19</td>\n",
       "      <td>weekend</td>\n",
       "    </tr>\n",
       "    <tr>\n",
       "      <th>1</th>\n",
       "      <td>2022-05-02</td>\n",
       "      <td>May 22</td>\n",
       "      <td>W 19</td>\n",
       "      <td>weekeday</td>\n",
       "    </tr>\n",
       "    <tr>\n",
       "      <th>2</th>\n",
       "      <td>2022-05-03</td>\n",
       "      <td>May 22</td>\n",
       "      <td>W 19</td>\n",
       "      <td>weekeday</td>\n",
       "    </tr>\n",
       "  </tbody>\n",
       "</table>\n",
       "</div>"
      ],
      "text/plain": [
       "        date  mmm yy week no  day_type\n",
       "0 2022-05-01  May 22    W 19   weekend\n",
       "1 2022-05-02  May 22    W 19  weekeday\n",
       "2 2022-05-03  May 22    W 19  weekeday"
      ]
     },
     "execution_count": 32,
     "metadata": {},
     "output_type": "execute_result"
    }
   ],
   "source": [
    "df_date[\"date\"] = pd.to_datetime(df_date[\"date\"])\n",
    "df_date.head(3)"
   ]
  },
  {
   "cell_type": "code",
   "execution_count": 35,
   "metadata": {},
   "outputs": [
    {
     "data": {
      "text/html": [
       "<div>\n",
       "<style scoped>\n",
       "    .dataframe tbody tr th:only-of-type {\n",
       "        vertical-align: middle;\n",
       "    }\n",
       "\n",
       "    .dataframe tbody tr th {\n",
       "        vertical-align: top;\n",
       "    }\n",
       "\n",
       "    .dataframe thead th {\n",
       "        text-align: right;\n",
       "    }\n",
       "</style>\n",
       "<table border=\"1\" class=\"dataframe\">\n",
       "  <thead>\n",
       "    <tr style=\"text-align: right;\">\n",
       "      <th></th>\n",
       "      <th>date</th>\n",
       "      <th>mmm yy</th>\n",
       "      <th>week no</th>\n",
       "      <th>day_type</th>\n",
       "      <th>booking_id</th>\n",
       "      <th>property_id</th>\n",
       "      <th>booking_date</th>\n",
       "      <th>check_in_date</th>\n",
       "      <th>checkout_date</th>\n",
       "      <th>no_guests</th>\n",
       "      <th>room_category</th>\n",
       "      <th>booking_platform</th>\n",
       "      <th>ratings_given</th>\n",
       "      <th>booking_status</th>\n",
       "      <th>revenue_generated</th>\n",
       "      <th>revenue_realized</th>\n",
       "    </tr>\n",
       "  </thead>\n",
       "  <tbody>\n",
       "    <tr>\n",
       "      <th>0</th>\n",
       "      <td>2022-05-05</td>\n",
       "      <td>May 22</td>\n",
       "      <td>W 19</td>\n",
       "      <td>weekeday</td>\n",
       "      <td>May052216558RT11</td>\n",
       "      <td>16558</td>\n",
       "      <td>15-04-22</td>\n",
       "      <td>2022-05-05</td>\n",
       "      <td>7/5/2022</td>\n",
       "      <td>3.0</td>\n",
       "      <td>RT1</td>\n",
       "      <td>tripster</td>\n",
       "      <td>5.0</td>\n",
       "      <td>Checked Out</td>\n",
       "      <td>10010</td>\n",
       "      <td>10010</td>\n",
       "    </tr>\n",
       "    <tr>\n",
       "      <th>1</th>\n",
       "      <td>2022-05-05</td>\n",
       "      <td>May 22</td>\n",
       "      <td>W 19</td>\n",
       "      <td>weekeday</td>\n",
       "      <td>May052216558RT12</td>\n",
       "      <td>16558</td>\n",
       "      <td>30-04-22</td>\n",
       "      <td>2022-05-05</td>\n",
       "      <td>7/5/2022</td>\n",
       "      <td>2.0</td>\n",
       "      <td>RT1</td>\n",
       "      <td>others</td>\n",
       "      <td>NaN</td>\n",
       "      <td>Cancelled</td>\n",
       "      <td>9100</td>\n",
       "      <td>3640</td>\n",
       "    </tr>\n",
       "    <tr>\n",
       "      <th>2</th>\n",
       "      <td>2022-05-05</td>\n",
       "      <td>May 22</td>\n",
       "      <td>W 19</td>\n",
       "      <td>weekeday</td>\n",
       "      <td>May052216558RT13</td>\n",
       "      <td>16558</td>\n",
       "      <td>1/5/2022</td>\n",
       "      <td>2022-05-05</td>\n",
       "      <td>6/5/2022</td>\n",
       "      <td>3.0</td>\n",
       "      <td>RT1</td>\n",
       "      <td>direct offline</td>\n",
       "      <td>5.0</td>\n",
       "      <td>Checked Out</td>\n",
       "      <td>10010</td>\n",
       "      <td>10010</td>\n",
       "    </tr>\n",
       "    <tr>\n",
       "      <th>3</th>\n",
       "      <td>2022-05-05</td>\n",
       "      <td>May 22</td>\n",
       "      <td>W 19</td>\n",
       "      <td>weekeday</td>\n",
       "      <td>May052216558RT14</td>\n",
       "      <td>16558</td>\n",
       "      <td>3/5/2022</td>\n",
       "      <td>2022-05-05</td>\n",
       "      <td>6/5/2022</td>\n",
       "      <td>2.0</td>\n",
       "      <td>RT1</td>\n",
       "      <td>tripster</td>\n",
       "      <td>3.0</td>\n",
       "      <td>Checked Out</td>\n",
       "      <td>9100</td>\n",
       "      <td>9100</td>\n",
       "    </tr>\n",
       "    <tr>\n",
       "      <th>4</th>\n",
       "      <td>2022-05-05</td>\n",
       "      <td>May 22</td>\n",
       "      <td>W 19</td>\n",
       "      <td>weekeday</td>\n",
       "      <td>May052216558RT15</td>\n",
       "      <td>16558</td>\n",
       "      <td>30-04-22</td>\n",
       "      <td>2022-05-05</td>\n",
       "      <td>10/5/2022</td>\n",
       "      <td>4.0</td>\n",
       "      <td>RT1</td>\n",
       "      <td>others</td>\n",
       "      <td>4.0</td>\n",
       "      <td>Checked Out</td>\n",
       "      <td>10920</td>\n",
       "      <td>10920</td>\n",
       "    </tr>\n",
       "    <tr>\n",
       "      <th>...</th>\n",
       "      <td>...</td>\n",
       "      <td>...</td>\n",
       "      <td>...</td>\n",
       "      <td>...</td>\n",
       "      <td>...</td>\n",
       "      <td>...</td>\n",
       "      <td>...</td>\n",
       "      <td>...</td>\n",
       "      <td>...</td>\n",
       "      <td>...</td>\n",
       "      <td>...</td>\n",
       "      <td>...</td>\n",
       "      <td>...</td>\n",
       "      <td>...</td>\n",
       "      <td>...</td>\n",
       "      <td>...</td>\n",
       "    </tr>\n",
       "    <tr>\n",
       "      <th>92573</th>\n",
       "      <td>2022-07-31</td>\n",
       "      <td>Jul 22</td>\n",
       "      <td>W 32</td>\n",
       "      <td>weekend</td>\n",
       "      <td>Jul312217564RT45</td>\n",
       "      <td>17564</td>\n",
       "      <td>30-07-22</td>\n",
       "      <td>2022-07-31</td>\n",
       "      <td>1/8/2022</td>\n",
       "      <td>2.0</td>\n",
       "      <td>RT4</td>\n",
       "      <td>others</td>\n",
       "      <td>2.0</td>\n",
       "      <td>Checked Out</td>\n",
       "      <td>32300</td>\n",
       "      <td>32300</td>\n",
       "    </tr>\n",
       "    <tr>\n",
       "      <th>92574</th>\n",
       "      <td>2022-07-31</td>\n",
       "      <td>Jul 22</td>\n",
       "      <td>W 32</td>\n",
       "      <td>weekend</td>\n",
       "      <td>Jul312217564RT46</td>\n",
       "      <td>17564</td>\n",
       "      <td>29-07-22</td>\n",
       "      <td>2022-07-31</td>\n",
       "      <td>3/8/2022</td>\n",
       "      <td>1.0</td>\n",
       "      <td>RT4</td>\n",
       "      <td>makeyourtrip</td>\n",
       "      <td>2.0</td>\n",
       "      <td>Checked Out</td>\n",
       "      <td>32300</td>\n",
       "      <td>32300</td>\n",
       "    </tr>\n",
       "    <tr>\n",
       "      <th>92575</th>\n",
       "      <td>2022-07-31</td>\n",
       "      <td>Jul 22</td>\n",
       "      <td>W 32</td>\n",
       "      <td>weekend</td>\n",
       "      <td>Jul312217564RT48</td>\n",
       "      <td>17564</td>\n",
       "      <td>30-07-22</td>\n",
       "      <td>2022-07-31</td>\n",
       "      <td>2/8/2022</td>\n",
       "      <td>1.0</td>\n",
       "      <td>RT4</td>\n",
       "      <td>tripster</td>\n",
       "      <td>NaN</td>\n",
       "      <td>Cancelled</td>\n",
       "      <td>32300</td>\n",
       "      <td>12920</td>\n",
       "    </tr>\n",
       "    <tr>\n",
       "      <th>92576</th>\n",
       "      <td>2022-07-31</td>\n",
       "      <td>Jul 22</td>\n",
       "      <td>W 32</td>\n",
       "      <td>weekend</td>\n",
       "      <td>Jul312217564RT49</td>\n",
       "      <td>17564</td>\n",
       "      <td>29-07-22</td>\n",
       "      <td>2022-07-31</td>\n",
       "      <td>1/8/2022</td>\n",
       "      <td>2.0</td>\n",
       "      <td>RT4</td>\n",
       "      <td>logtrip</td>\n",
       "      <td>2.0</td>\n",
       "      <td>Checked Out</td>\n",
       "      <td>32300</td>\n",
       "      <td>32300</td>\n",
       "    </tr>\n",
       "    <tr>\n",
       "      <th>92577</th>\n",
       "      <td>2022-07-31</td>\n",
       "      <td>Jul 22</td>\n",
       "      <td>W 32</td>\n",
       "      <td>weekend</td>\n",
       "      <td>Jul312217564RT410</td>\n",
       "      <td>17564</td>\n",
       "      <td>31-07-22</td>\n",
       "      <td>2022-07-31</td>\n",
       "      <td>1/8/2022</td>\n",
       "      <td>2.0</td>\n",
       "      <td>RT4</td>\n",
       "      <td>makeyourtrip</td>\n",
       "      <td>NaN</td>\n",
       "      <td>Cancelled</td>\n",
       "      <td>32300</td>\n",
       "      <td>12920</td>\n",
       "    </tr>\n",
       "  </tbody>\n",
       "</table>\n",
       "<p>92578 rows × 16 columns</p>\n",
       "</div>"
      ],
      "text/plain": [
       "            date  mmm yy week no  day_type         booking_id  property_id  \\\n",
       "0     2022-05-05  May 22    W 19  weekeday   May052216558RT11        16558   \n",
       "1     2022-05-05  May 22    W 19  weekeday   May052216558RT12        16558   \n",
       "2     2022-05-05  May 22    W 19  weekeday   May052216558RT13        16558   \n",
       "3     2022-05-05  May 22    W 19  weekeday   May052216558RT14        16558   \n",
       "4     2022-05-05  May 22    W 19  weekeday   May052216558RT15        16558   \n",
       "...          ...     ...     ...       ...                ...          ...   \n",
       "92573 2022-07-31  Jul 22    W 32   weekend   Jul312217564RT45        17564   \n",
       "92574 2022-07-31  Jul 22    W 32   weekend   Jul312217564RT46        17564   \n",
       "92575 2022-07-31  Jul 22    W 32   weekend   Jul312217564RT48        17564   \n",
       "92576 2022-07-31  Jul 22    W 32   weekend   Jul312217564RT49        17564   \n",
       "92577 2022-07-31  Jul 22    W 32   weekend  Jul312217564RT410        17564   \n",
       "\n",
       "      booking_date check_in_date checkout_date  no_guests room_category  \\\n",
       "0         15-04-22    2022-05-05      7/5/2022        3.0           RT1   \n",
       "1         30-04-22    2022-05-05      7/5/2022        2.0           RT1   \n",
       "2         1/5/2022    2022-05-05      6/5/2022        3.0           RT1   \n",
       "3         3/5/2022    2022-05-05      6/5/2022        2.0           RT1   \n",
       "4         30-04-22    2022-05-05     10/5/2022        4.0           RT1   \n",
       "...            ...           ...           ...        ...           ...   \n",
       "92573     30-07-22    2022-07-31      1/8/2022        2.0           RT4   \n",
       "92574     29-07-22    2022-07-31      3/8/2022        1.0           RT4   \n",
       "92575     30-07-22    2022-07-31      2/8/2022        1.0           RT4   \n",
       "92576     29-07-22    2022-07-31      1/8/2022        2.0           RT4   \n",
       "92577     31-07-22    2022-07-31      1/8/2022        2.0           RT4   \n",
       "\n",
       "      booking_platform  ratings_given booking_status  revenue_generated  \\\n",
       "0             tripster            5.0    Checked Out              10010   \n",
       "1               others            NaN      Cancelled               9100   \n",
       "2       direct offline            5.0    Checked Out              10010   \n",
       "3             tripster            3.0    Checked Out               9100   \n",
       "4               others            4.0    Checked Out              10920   \n",
       "...                ...            ...            ...                ...   \n",
       "92573           others            2.0    Checked Out              32300   \n",
       "92574     makeyourtrip            2.0    Checked Out              32300   \n",
       "92575         tripster            NaN      Cancelled              32300   \n",
       "92576          logtrip            2.0    Checked Out              32300   \n",
       "92577     makeyourtrip            NaN      Cancelled              32300   \n",
       "\n",
       "       revenue_realized  \n",
       "0                 10010  \n",
       "1                  3640  \n",
       "2                 10010  \n",
       "3                  9100  \n",
       "4                 10920  \n",
       "...                 ...  \n",
       "92573             32300  \n",
       "92574             32300  \n",
       "92575             12920  \n",
       "92576             32300  \n",
       "92577             12920  \n",
       "\n",
       "[92578 rows x 16 columns]"
      ]
     },
     "execution_count": 35,
     "metadata": {},
     "output_type": "execute_result"
    }
   ],
   "source": [
    "df_ans6 = pd.merge(df_date, df_bookings, left_on= 'date', right_on= 'check_in_date')\n",
    "df_ans6"
   ]
  },
  {
   "cell_type": "code",
   "execution_count": 36,
   "metadata": {},
   "outputs": [
    {
     "data": {
      "text/plain": [
       "mmm yy\n",
       "Jul 22    389940912\n",
       "Jun 22    377191229\n",
       "May 22    408375641\n",
       "Name: revenue_realized, dtype: int64"
      ]
     },
     "execution_count": 36,
     "metadata": {},
     "output_type": "execute_result"
    }
   ],
   "source": [
    "df_ans6.groupby(['mmm yy'])['revenue_realized'].sum()"
   ]
  }
 ],
 "metadata": {
  "kernelspec": {
   "display_name": "Python 3",
   "language": "python",
   "name": "python3"
  },
  "language_info": {
   "codemirror_mode": {
    "name": "ipython",
    "version": 3
   },
   "file_extension": ".py",
   "mimetype": "text/x-python",
   "name": "python",
   "nbconvert_exporter": "python",
   "pygments_lexer": "ipython3",
   "version": "3.8.3"
  }
 },
 "nbformat": 4,
 "nbformat_minor": 4
}
